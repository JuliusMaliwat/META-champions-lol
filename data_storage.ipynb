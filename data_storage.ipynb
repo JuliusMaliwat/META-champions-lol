{
 "cells": [
  {
   "cell_type": "code",
   "execution_count": 1,
   "metadata": {},
   "outputs": [],
   "source": [
    "import mysql.connector\n",
    "import pandas as pd\n"
   ]
  },
  {
   "cell_type": "markdown",
   "metadata": {},
   "source": [
    "### Connect to mySQL\n",
    "To make it work, open your MySQL workbench"
   ]
  },
  {
   "cell_type": "code",
   "execution_count": 2,
   "metadata": {},
   "outputs": [],
   "source": [
    "conn = mysql.connector.connect(\n",
    "    host=\"localhost\",\n",
    "    user=\"root\",\n",
    "    password=\"your_password\" \n",
    "  \n",
    ")\n",
    "# i put a placeholder on password"
   ]
  },
  {
   "cell_type": "code",
   "execution_count": 3,
   "metadata": {},
   "outputs": [],
   "source": [
    "def execute_query(conn, query):\n",
    "    cursor = conn.cursor()\n",
    "    print(\"Executing\")\n",
    "    cursor.execute(query)\n",
    "\n",
    "    cursor.close()"
   ]
  },
  {
   "cell_type": "code",
   "execution_count": 4,
   "metadata": {},
   "outputs": [
    {
     "name": "stdout",
     "output_type": "stream",
     "text": [
      "Executing\n"
     ]
    }
   ],
   "source": [
    "database_name = 'main'\n",
    "execute_query(conn, f\"CREATE SCHEMA {database_name}\")\n"
   ]
  },
  {
   "cell_type": "code",
   "execution_count": 5,
   "metadata": {},
   "outputs": [],
   "source": [
    "conn= mysql.connector.connect(\n",
    "    host=\"localhost\",\n",
    "    user=\"root\",\n",
    "    password=\"your_password\", \n",
    "    database = database_name\n",
    "  \n",
    ")\n",
    "#i put a placeholder in password"
   ]
  },
  {
   "cell_type": "markdown",
   "metadata": {},
   "source": [
    "### Create Query Functions"
   ]
  },
  {
   "cell_type": "code",
   "execution_count": 6,
   "metadata": {},
   "outputs": [],
   "source": [
    "def get_mysql_type(pandas_type):\n",
    "    # Mappa i tipi di dati Pandas ai tipi di dati MySQL\n",
    "    type_mapping = {\n",
    "        'int64': 'INT',\n",
    "        'float64': 'FLOAT',\n",
    "        'object': 'VARCHAR(255)',  # Modifica la lunghezza a seconda delle tue esigenze\n",
    "        'datetime64[ns]': 'DATETIME'\n",
    "        # Aggiungi altri tipi di dati se necessario\n",
    "    }\n",
    "\n",
    "    return type_mapping.get(str(pandas_type), 'VARCHAR(255)')  # Tipo di default"
   ]
  },
  {
   "cell_type": "code",
   "execution_count": 7,
   "metadata": {},
   "outputs": [],
   "source": [
    "def get_create_table_query(df, primary_keys, table_name, foreign_keys = None):\n",
    "   \n",
    "    # Costruire la query per creare la tabella\n",
    "    create_table_query = f\"CREATE TABLE {table_name} (\"\n",
    "\n",
    "    # Iterare sulle colonne del DataFrame\n",
    "    for col_name, col_type in zip(df.columns, df.dtypes):\n",
    "        # Ottieni il tipo di dati MySQL corrispondente al tipo della colonna nel DataFrame\n",
    "        mysql_type = get_mysql_type(col_type)\n",
    "        \n",
    "        #fix forzato\n",
    "        if col_name == 'blurb':\n",
    "            mysql_type = 'TEXT'\n",
    "\n",
    "        # Aggiungi la colonna e il tipo alla query di creazione della tabella\n",
    "        create_table_query += f\"{col_name} {mysql_type}, \"\n",
    "\n",
    "    # Aggiungi le primary keys alla query\n",
    "    if primary_keys:\n",
    "        create_table_query += f\"PRIMARY KEY ({', '.join(primary_keys)}), \"\n",
    "            # Aggiungi le foreign keys alla query se specificate\n",
    "    \n",
    "    if foreign_keys:\n",
    "        for foreign_key in foreign_keys:\n",
    "            create_table_query += f\"FOREIGN KEY ({foreign_key['column']}) REFERENCES {foreign_key['referenced_table']}({foreign_key['referenced_column']}), \"\n",
    "            \n",
    "    create_table_query = create_table_query.rstrip(', ') + \")\"\n",
    "    return create_table_query"
   ]
  },
  {
   "cell_type": "code",
   "execution_count": 8,
   "metadata": {},
   "outputs": [],
   "source": [
    "def execute_query(conn, query):\n",
    "    cursor = conn.cursor()\n",
    "    print(\"Executing\")\n",
    "    cursor.execute(query)\n",
    "\n",
    "    cursor.close()"
   ]
  },
  {
   "cell_type": "markdown",
   "metadata": {},
   "source": [
    "### Champion Name"
   ]
  },
  {
   "cell_type": "code",
   "execution_count": 9,
   "metadata": {},
   "outputs": [
    {
     "data": {
      "text/html": [
       "<div>\n",
       "<style scoped>\n",
       "    .dataframe tbody tr th:only-of-type {\n",
       "        vertical-align: middle;\n",
       "    }\n",
       "\n",
       "    .dataframe tbody tr th {\n",
       "        vertical-align: top;\n",
       "    }\n",
       "\n",
       "    .dataframe thead th {\n",
       "        text-align: right;\n",
       "    }\n",
       "</style>\n",
       "<table border=\"1\" class=\"dataframe\">\n",
       "  <thead>\n",
       "    <tr style=\"text-align: right;\">\n",
       "      <th></th>\n",
       "      <th>champion_ID</th>\n",
       "      <th>champion_name</th>\n",
       "    </tr>\n",
       "  </thead>\n",
       "  <tbody>\n",
       "    <tr>\n",
       "      <th>0</th>\n",
       "      <td>266</td>\n",
       "      <td>Aatrox</td>\n",
       "    </tr>\n",
       "    <tr>\n",
       "      <th>1</th>\n",
       "      <td>103</td>\n",
       "      <td>Ahri</td>\n",
       "    </tr>\n",
       "    <tr>\n",
       "      <th>2</th>\n",
       "      <td>84</td>\n",
       "      <td>Akali</td>\n",
       "    </tr>\n",
       "    <tr>\n",
       "      <th>3</th>\n",
       "      <td>166</td>\n",
       "      <td>Akshan</td>\n",
       "    </tr>\n",
       "    <tr>\n",
       "      <th>4</th>\n",
       "      <td>12</td>\n",
       "      <td>Alistar</td>\n",
       "    </tr>\n",
       "    <tr>\n",
       "      <th>...</th>\n",
       "      <td>...</td>\n",
       "      <td>...</td>\n",
       "    </tr>\n",
       "    <tr>\n",
       "      <th>161</th>\n",
       "      <td>221</td>\n",
       "      <td>Zeri</td>\n",
       "    </tr>\n",
       "    <tr>\n",
       "      <th>162</th>\n",
       "      <td>115</td>\n",
       "      <td>Ziggs</td>\n",
       "    </tr>\n",
       "    <tr>\n",
       "      <th>163</th>\n",
       "      <td>26</td>\n",
       "      <td>Zilean</td>\n",
       "    </tr>\n",
       "    <tr>\n",
       "      <th>164</th>\n",
       "      <td>142</td>\n",
       "      <td>Zoe</td>\n",
       "    </tr>\n",
       "    <tr>\n",
       "      <th>165</th>\n",
       "      <td>143</td>\n",
       "      <td>Zyra</td>\n",
       "    </tr>\n",
       "  </tbody>\n",
       "</table>\n",
       "<p>166 rows × 2 columns</p>\n",
       "</div>"
      ],
      "text/plain": [
       "     champion_ID champion_name\n",
       "0            266        Aatrox\n",
       "1            103          Ahri\n",
       "2             84         Akali\n",
       "3            166        Akshan\n",
       "4             12       Alistar\n",
       "..           ...           ...\n",
       "161          221          Zeri\n",
       "162          115         Ziggs\n",
       "163           26        Zilean\n",
       "164          142           Zoe\n",
       "165          143          Zyra\n",
       "\n",
       "[166 rows x 2 columns]"
      ]
     },
     "execution_count": 9,
     "metadata": {},
     "output_type": "execute_result"
    }
   ],
   "source": [
    "df_champion_name = pd.read_excel('datasets_cleaned/champion_name.xlsx')\n",
    "df_champion_name"
   ]
  },
  {
   "cell_type": "code",
   "execution_count": 10,
   "metadata": {},
   "outputs": [
    {
     "data": {
      "text/plain": [
       "'CREATE TABLE champion (champion_ID INT, champion_name VARCHAR(255), PRIMARY KEY (champion_ID))'"
      ]
     },
     "execution_count": 10,
     "metadata": {},
     "output_type": "execute_result"
    }
   ],
   "source": [
    "champion_name_create_query = get_create_table_query(\n",
    "    df_champion_name, ['champion_ID'], 'champion'\n",
    ")\n",
    "champion_name_create_query"
   ]
  },
  {
   "cell_type": "code",
   "execution_count": 11,
   "metadata": {},
   "outputs": [
    {
     "name": "stdout",
     "output_type": "stream",
     "text": [
      "Executing\n"
     ]
    }
   ],
   "source": [
    "execute_query(conn, champion_name_create_query)"
   ]
  },
  {
   "cell_type": "markdown",
   "metadata": {},
   "source": [
    "### Champion Base Info"
   ]
  },
  {
   "cell_type": "code",
   "execution_count": 12,
   "metadata": {},
   "outputs": [
    {
     "data": {
      "text/html": [
       "<div>\n",
       "<style scoped>\n",
       "    .dataframe tbody tr th:only-of-type {\n",
       "        vertical-align: middle;\n",
       "    }\n",
       "\n",
       "    .dataframe tbody tr th {\n",
       "        vertical-align: top;\n",
       "    }\n",
       "\n",
       "    .dataframe thead th {\n",
       "        text-align: right;\n",
       "    }\n",
       "</style>\n",
       "<table border=\"1\" class=\"dataframe\">\n",
       "  <thead>\n",
       "    <tr style=\"text-align: right;\">\n",
       "      <th></th>\n",
       "      <th>champion_ID</th>\n",
       "      <th>title</th>\n",
       "      <th>blurb</th>\n",
       "      <th>partype</th>\n",
       "      <th>attack</th>\n",
       "      <th>defense</th>\n",
       "      <th>magic</th>\n",
       "      <th>difficulty</th>\n",
       "    </tr>\n",
       "  </thead>\n",
       "  <tbody>\n",
       "    <tr>\n",
       "      <th>0</th>\n",
       "      <td>266</td>\n",
       "      <td>the Darkin Blade</td>\n",
       "      <td>Once honored defenders of Shurima against the ...</td>\n",
       "      <td>Blood Well</td>\n",
       "      <td>8</td>\n",
       "      <td>4</td>\n",
       "      <td>3</td>\n",
       "      <td>4</td>\n",
       "    </tr>\n",
       "    <tr>\n",
       "      <th>1</th>\n",
       "      <td>103</td>\n",
       "      <td>the Nine-Tailed Fox</td>\n",
       "      <td>Innately connected to the magic of the spirit ...</td>\n",
       "      <td>Mana</td>\n",
       "      <td>3</td>\n",
       "      <td>4</td>\n",
       "      <td>8</td>\n",
       "      <td>5</td>\n",
       "    </tr>\n",
       "    <tr>\n",
       "      <th>2</th>\n",
       "      <td>84</td>\n",
       "      <td>the Rogue Assassin</td>\n",
       "      <td>Abandoning the Kinkou Order and her title of t...</td>\n",
       "      <td>Energy</td>\n",
       "      <td>5</td>\n",
       "      <td>3</td>\n",
       "      <td>8</td>\n",
       "      <td>7</td>\n",
       "    </tr>\n",
       "    <tr>\n",
       "      <th>3</th>\n",
       "      <td>166</td>\n",
       "      <td>the Rogue Sentinel</td>\n",
       "      <td>Raising an eyebrow in the face of danger, Aksh...</td>\n",
       "      <td>Mana</td>\n",
       "      <td>0</td>\n",
       "      <td>0</td>\n",
       "      <td>0</td>\n",
       "      <td>0</td>\n",
       "    </tr>\n",
       "    <tr>\n",
       "      <th>4</th>\n",
       "      <td>12</td>\n",
       "      <td>the Minotaur</td>\n",
       "      <td>Always a mighty warrior with a fearsome reputa...</td>\n",
       "      <td>Mana</td>\n",
       "      <td>6</td>\n",
       "      <td>9</td>\n",
       "      <td>5</td>\n",
       "      <td>7</td>\n",
       "    </tr>\n",
       "    <tr>\n",
       "      <th>...</th>\n",
       "      <td>...</td>\n",
       "      <td>...</td>\n",
       "      <td>...</td>\n",
       "      <td>...</td>\n",
       "      <td>...</td>\n",
       "      <td>...</td>\n",
       "      <td>...</td>\n",
       "      <td>...</td>\n",
       "    </tr>\n",
       "    <tr>\n",
       "      <th>161</th>\n",
       "      <td>221</td>\n",
       "      <td>The Spark of Zaun</td>\n",
       "      <td>A headstrong, spirited young woman from Zaun's...</td>\n",
       "      <td>Mana</td>\n",
       "      <td>8</td>\n",
       "      <td>5</td>\n",
       "      <td>3</td>\n",
       "      <td>6</td>\n",
       "    </tr>\n",
       "    <tr>\n",
       "      <th>162</th>\n",
       "      <td>115</td>\n",
       "      <td>the Hexplosives Expert</td>\n",
       "      <td>With a love of big bombs and short fuses, the ...</td>\n",
       "      <td>Mana</td>\n",
       "      <td>2</td>\n",
       "      <td>4</td>\n",
       "      <td>9</td>\n",
       "      <td>4</td>\n",
       "    </tr>\n",
       "    <tr>\n",
       "      <th>163</th>\n",
       "      <td>26</td>\n",
       "      <td>the Chronokeeper</td>\n",
       "      <td>Once a powerful Icathian mage, Zilean became o...</td>\n",
       "      <td>Mana</td>\n",
       "      <td>2</td>\n",
       "      <td>5</td>\n",
       "      <td>8</td>\n",
       "      <td>6</td>\n",
       "    </tr>\n",
       "    <tr>\n",
       "      <th>164</th>\n",
       "      <td>142</td>\n",
       "      <td>the Aspect of Twilight</td>\n",
       "      <td>As the embodiment of mischief, imagination, an...</td>\n",
       "      <td>Mana</td>\n",
       "      <td>1</td>\n",
       "      <td>7</td>\n",
       "      <td>8</td>\n",
       "      <td>5</td>\n",
       "    </tr>\n",
       "    <tr>\n",
       "      <th>165</th>\n",
       "      <td>143</td>\n",
       "      <td>Rise of the Thorns</td>\n",
       "      <td>Born in an ancient, sorcerous catastrophe, Zyr...</td>\n",
       "      <td>Mana</td>\n",
       "      <td>4</td>\n",
       "      <td>3</td>\n",
       "      <td>8</td>\n",
       "      <td>7</td>\n",
       "    </tr>\n",
       "  </tbody>\n",
       "</table>\n",
       "<p>166 rows × 8 columns</p>\n",
       "</div>"
      ],
      "text/plain": [
       "     champion_ID                   title  \\\n",
       "0            266        the Darkin Blade   \n",
       "1            103     the Nine-Tailed Fox   \n",
       "2             84      the Rogue Assassin   \n",
       "3            166      the Rogue Sentinel   \n",
       "4             12            the Minotaur   \n",
       "..           ...                     ...   \n",
       "161          221       The Spark of Zaun   \n",
       "162          115  the Hexplosives Expert   \n",
       "163           26        the Chronokeeper   \n",
       "164          142  the Aspect of Twilight   \n",
       "165          143      Rise of the Thorns   \n",
       "\n",
       "                                                 blurb     partype  attack  \\\n",
       "0    Once honored defenders of Shurima against the ...  Blood Well       8   \n",
       "1    Innately connected to the magic of the spirit ...        Mana       3   \n",
       "2    Abandoning the Kinkou Order and her title of t...      Energy       5   \n",
       "3    Raising an eyebrow in the face of danger, Aksh...        Mana       0   \n",
       "4    Always a mighty warrior with a fearsome reputa...        Mana       6   \n",
       "..                                                 ...         ...     ...   \n",
       "161  A headstrong, spirited young woman from Zaun's...        Mana       8   \n",
       "162  With a love of big bombs and short fuses, the ...        Mana       2   \n",
       "163  Once a powerful Icathian mage, Zilean became o...        Mana       2   \n",
       "164  As the embodiment of mischief, imagination, an...        Mana       1   \n",
       "165  Born in an ancient, sorcerous catastrophe, Zyr...        Mana       4   \n",
       "\n",
       "     defense  magic  difficulty  \n",
       "0          4      3           4  \n",
       "1          4      8           5  \n",
       "2          3      8           7  \n",
       "3          0      0           0  \n",
       "4          9      5           7  \n",
       "..       ...    ...         ...  \n",
       "161        5      3           6  \n",
       "162        4      9           4  \n",
       "163        5      8           6  \n",
       "164        7      8           5  \n",
       "165        3      8           7  \n",
       "\n",
       "[166 rows x 8 columns]"
      ]
     },
     "execution_count": 12,
     "metadata": {},
     "output_type": "execute_result"
    }
   ],
   "source": [
    "df_champion_base_info = pd.read_excel('datasets_cleaned/champion_base_info.xlsx')\n",
    "df_champion_base_info"
   ]
  },
  {
   "cell_type": "code",
   "execution_count": 13,
   "metadata": {},
   "outputs": [
    {
     "data": {
      "text/plain": [
       "'CREATE TABLE champion_base_info (champion_ID INT, title VARCHAR(255), blurb TEXT, partype VARCHAR(255), attack INT, defense INT, magic INT, difficulty INT, PRIMARY KEY (champion_ID), FOREIGN KEY (champion_ID) REFERENCES champion(champion_ID))'"
      ]
     },
     "execution_count": 13,
     "metadata": {},
     "output_type": "execute_result"
    }
   ],
   "source": [
    "foreign_keys = [\n",
    "    {'column': 'champion_ID', 'referenced_table': 'champion', 'referenced_column': 'champion_ID'}\n",
    "]\n",
    "\n",
    "champion_base_info_create_query = get_create_table_query(df_champion_base_info,\n",
    "                                                         ['champion_ID'],\n",
    "                                                         'champion_base_info',\n",
    "                                                         foreign_keys)\n",
    "\n",
    "champion_base_info_create_query"
   ]
  },
  {
   "cell_type": "code",
   "execution_count": 14,
   "metadata": {},
   "outputs": [
    {
     "name": "stdout",
     "output_type": "stream",
     "text": [
      "Executing\n"
     ]
    }
   ],
   "source": [
    "execute_query(conn, champion_base_info_create_query)"
   ]
  },
  {
   "cell_type": "markdown",
   "metadata": {},
   "source": [
    "### Champion Base Stats"
   ]
  },
  {
   "cell_type": "code",
   "execution_count": 15,
   "metadata": {},
   "outputs": [
    {
     "data": {
      "text/html": [
       "<div>\n",
       "<style scoped>\n",
       "    .dataframe tbody tr th:only-of-type {\n",
       "        vertical-align: middle;\n",
       "    }\n",
       "\n",
       "    .dataframe tbody tr th {\n",
       "        vertical-align: top;\n",
       "    }\n",
       "\n",
       "    .dataframe thead th {\n",
       "        text-align: right;\n",
       "    }\n",
       "</style>\n",
       "<table border=\"1\" class=\"dataframe\">\n",
       "  <thead>\n",
       "    <tr style=\"text-align: right;\">\n",
       "      <th></th>\n",
       "      <th>champion_ID</th>\n",
       "      <th>hp</th>\n",
       "      <th>hpperlevel</th>\n",
       "      <th>mp</th>\n",
       "      <th>mpperlevel</th>\n",
       "      <th>movespeed</th>\n",
       "      <th>armor</th>\n",
       "      <th>armorperlevel</th>\n",
       "      <th>spellblock</th>\n",
       "      <th>spellblockperlevel</th>\n",
       "      <th>...</th>\n",
       "      <th>hpregen</th>\n",
       "      <th>hpregenperlevel</th>\n",
       "      <th>mpregen</th>\n",
       "      <th>mpregenperlevel</th>\n",
       "      <th>crit</th>\n",
       "      <th>critperlevel</th>\n",
       "      <th>attackdamage</th>\n",
       "      <th>attackdamageperlevel</th>\n",
       "      <th>attackspeedperlevel</th>\n",
       "      <th>attackspeed</th>\n",
       "    </tr>\n",
       "  </thead>\n",
       "  <tbody>\n",
       "    <tr>\n",
       "      <th>0</th>\n",
       "      <td>266</td>\n",
       "      <td>650</td>\n",
       "      <td>114</td>\n",
       "      <td>0</td>\n",
       "      <td>0.0</td>\n",
       "      <td>345</td>\n",
       "      <td>38</td>\n",
       "      <td>4.45</td>\n",
       "      <td>32</td>\n",
       "      <td>2.05</td>\n",
       "      <td>...</td>\n",
       "      <td>3.00</td>\n",
       "      <td>1.00</td>\n",
       "      <td>0.00</td>\n",
       "      <td>0.00</td>\n",
       "      <td>0</td>\n",
       "      <td>0</td>\n",
       "      <td>60</td>\n",
       "      <td>5.00</td>\n",
       "      <td>2.500</td>\n",
       "      <td>0.651</td>\n",
       "    </tr>\n",
       "    <tr>\n",
       "      <th>1</th>\n",
       "      <td>103</td>\n",
       "      <td>590</td>\n",
       "      <td>96</td>\n",
       "      <td>418</td>\n",
       "      <td>25.0</td>\n",
       "      <td>330</td>\n",
       "      <td>21</td>\n",
       "      <td>4.70</td>\n",
       "      <td>30</td>\n",
       "      <td>1.30</td>\n",
       "      <td>...</td>\n",
       "      <td>2.50</td>\n",
       "      <td>0.60</td>\n",
       "      <td>8.00</td>\n",
       "      <td>0.80</td>\n",
       "      <td>0</td>\n",
       "      <td>0</td>\n",
       "      <td>53</td>\n",
       "      <td>3.00</td>\n",
       "      <td>2.200</td>\n",
       "      <td>0.668</td>\n",
       "    </tr>\n",
       "    <tr>\n",
       "      <th>2</th>\n",
       "      <td>84</td>\n",
       "      <td>570</td>\n",
       "      <td>119</td>\n",
       "      <td>200</td>\n",
       "      <td>0.0</td>\n",
       "      <td>345</td>\n",
       "      <td>23</td>\n",
       "      <td>4.70</td>\n",
       "      <td>37</td>\n",
       "      <td>2.05</td>\n",
       "      <td>...</td>\n",
       "      <td>9.00</td>\n",
       "      <td>0.90</td>\n",
       "      <td>50.00</td>\n",
       "      <td>0.00</td>\n",
       "      <td>0</td>\n",
       "      <td>0</td>\n",
       "      <td>62</td>\n",
       "      <td>3.30</td>\n",
       "      <td>3.200</td>\n",
       "      <td>0.625</td>\n",
       "    </tr>\n",
       "    <tr>\n",
       "      <th>3</th>\n",
       "      <td>166</td>\n",
       "      <td>630</td>\n",
       "      <td>107</td>\n",
       "      <td>350</td>\n",
       "      <td>40.0</td>\n",
       "      <td>330</td>\n",
       "      <td>26</td>\n",
       "      <td>4.70</td>\n",
       "      <td>30</td>\n",
       "      <td>1.30</td>\n",
       "      <td>...</td>\n",
       "      <td>3.75</td>\n",
       "      <td>0.65</td>\n",
       "      <td>8.20</td>\n",
       "      <td>0.70</td>\n",
       "      <td>0</td>\n",
       "      <td>0</td>\n",
       "      <td>52</td>\n",
       "      <td>3.00</td>\n",
       "      <td>4.000</td>\n",
       "      <td>0.638</td>\n",
       "    </tr>\n",
       "    <tr>\n",
       "      <th>4</th>\n",
       "      <td>12</td>\n",
       "      <td>685</td>\n",
       "      <td>120</td>\n",
       "      <td>350</td>\n",
       "      <td>40.0</td>\n",
       "      <td>330</td>\n",
       "      <td>47</td>\n",
       "      <td>4.70</td>\n",
       "      <td>32</td>\n",
       "      <td>2.05</td>\n",
       "      <td>...</td>\n",
       "      <td>8.50</td>\n",
       "      <td>0.85</td>\n",
       "      <td>8.50</td>\n",
       "      <td>0.80</td>\n",
       "      <td>0</td>\n",
       "      <td>0</td>\n",
       "      <td>62</td>\n",
       "      <td>3.75</td>\n",
       "      <td>2.125</td>\n",
       "      <td>0.625</td>\n",
       "    </tr>\n",
       "    <tr>\n",
       "      <th>...</th>\n",
       "      <td>...</td>\n",
       "      <td>...</td>\n",
       "      <td>...</td>\n",
       "      <td>...</td>\n",
       "      <td>...</td>\n",
       "      <td>...</td>\n",
       "      <td>...</td>\n",
       "      <td>...</td>\n",
       "      <td>...</td>\n",
       "      <td>...</td>\n",
       "      <td>...</td>\n",
       "      <td>...</td>\n",
       "      <td>...</td>\n",
       "      <td>...</td>\n",
       "      <td>...</td>\n",
       "      <td>...</td>\n",
       "      <td>...</td>\n",
       "      <td>...</td>\n",
       "      <td>...</td>\n",
       "      <td>...</td>\n",
       "      <td>...</td>\n",
       "    </tr>\n",
       "    <tr>\n",
       "      <th>161</th>\n",
       "      <td>221</td>\n",
       "      <td>630</td>\n",
       "      <td>110</td>\n",
       "      <td>250</td>\n",
       "      <td>45.0</td>\n",
       "      <td>330</td>\n",
       "      <td>24</td>\n",
       "      <td>4.20</td>\n",
       "      <td>30</td>\n",
       "      <td>1.30</td>\n",
       "      <td>...</td>\n",
       "      <td>3.25</td>\n",
       "      <td>0.70</td>\n",
       "      <td>6.00</td>\n",
       "      <td>0.80</td>\n",
       "      <td>0</td>\n",
       "      <td>0</td>\n",
       "      <td>53</td>\n",
       "      <td>2.00</td>\n",
       "      <td>2.000</td>\n",
       "      <td>0.658</td>\n",
       "    </tr>\n",
       "    <tr>\n",
       "      <th>162</th>\n",
       "      <td>115</td>\n",
       "      <td>606</td>\n",
       "      <td>106</td>\n",
       "      <td>480</td>\n",
       "      <td>23.5</td>\n",
       "      <td>325</td>\n",
       "      <td>18</td>\n",
       "      <td>4.50</td>\n",
       "      <td>30</td>\n",
       "      <td>1.30</td>\n",
       "      <td>...</td>\n",
       "      <td>6.50</td>\n",
       "      <td>0.60</td>\n",
       "      <td>8.00</td>\n",
       "      <td>0.80</td>\n",
       "      <td>0</td>\n",
       "      <td>0</td>\n",
       "      <td>55</td>\n",
       "      <td>3.10</td>\n",
       "      <td>2.000</td>\n",
       "      <td>0.656</td>\n",
       "    </tr>\n",
       "    <tr>\n",
       "      <th>163</th>\n",
       "      <td>26</td>\n",
       "      <td>574</td>\n",
       "      <td>96</td>\n",
       "      <td>452</td>\n",
       "      <td>50.0</td>\n",
       "      <td>335</td>\n",
       "      <td>24</td>\n",
       "      <td>5.00</td>\n",
       "      <td>30</td>\n",
       "      <td>1.30</td>\n",
       "      <td>...</td>\n",
       "      <td>5.50</td>\n",
       "      <td>0.50</td>\n",
       "      <td>11.35</td>\n",
       "      <td>0.80</td>\n",
       "      <td>0</td>\n",
       "      <td>0</td>\n",
       "      <td>52</td>\n",
       "      <td>3.00</td>\n",
       "      <td>2.130</td>\n",
       "      <td>0.658</td>\n",
       "    </tr>\n",
       "    <tr>\n",
       "      <th>164</th>\n",
       "      <td>142</td>\n",
       "      <td>630</td>\n",
       "      <td>106</td>\n",
       "      <td>425</td>\n",
       "      <td>25.0</td>\n",
       "      <td>340</td>\n",
       "      <td>21</td>\n",
       "      <td>4.70</td>\n",
       "      <td>30</td>\n",
       "      <td>1.30</td>\n",
       "      <td>...</td>\n",
       "      <td>7.50</td>\n",
       "      <td>0.60</td>\n",
       "      <td>8.00</td>\n",
       "      <td>0.65</td>\n",
       "      <td>0</td>\n",
       "      <td>0</td>\n",
       "      <td>58</td>\n",
       "      <td>3.30</td>\n",
       "      <td>2.500</td>\n",
       "      <td>0.658</td>\n",
       "    </tr>\n",
       "    <tr>\n",
       "      <th>165</th>\n",
       "      <td>143</td>\n",
       "      <td>574</td>\n",
       "      <td>93</td>\n",
       "      <td>418</td>\n",
       "      <td>25.0</td>\n",
       "      <td>340</td>\n",
       "      <td>29</td>\n",
       "      <td>4.20</td>\n",
       "      <td>30</td>\n",
       "      <td>1.30</td>\n",
       "      <td>...</td>\n",
       "      <td>5.50</td>\n",
       "      <td>0.50</td>\n",
       "      <td>13.00</td>\n",
       "      <td>0.40</td>\n",
       "      <td>0</td>\n",
       "      <td>0</td>\n",
       "      <td>53</td>\n",
       "      <td>3.20</td>\n",
       "      <td>2.110</td>\n",
       "      <td>0.681</td>\n",
       "    </tr>\n",
       "  </tbody>\n",
       "</table>\n",
       "<p>166 rows × 21 columns</p>\n",
       "</div>"
      ],
      "text/plain": [
       "     champion_ID   hp  hpperlevel   mp  mpperlevel  movespeed  armor  \\\n",
       "0            266  650         114    0         0.0        345     38   \n",
       "1            103  590          96  418        25.0        330     21   \n",
       "2             84  570         119  200         0.0        345     23   \n",
       "3            166  630         107  350        40.0        330     26   \n",
       "4             12  685         120  350        40.0        330     47   \n",
       "..           ...  ...         ...  ...         ...        ...    ...   \n",
       "161          221  630         110  250        45.0        330     24   \n",
       "162          115  606         106  480        23.5        325     18   \n",
       "163           26  574          96  452        50.0        335     24   \n",
       "164          142  630         106  425        25.0        340     21   \n",
       "165          143  574          93  418        25.0        340     29   \n",
       "\n",
       "     armorperlevel  spellblock  spellblockperlevel  ...  hpregen  \\\n",
       "0             4.45          32                2.05  ...     3.00   \n",
       "1             4.70          30                1.30  ...     2.50   \n",
       "2             4.70          37                2.05  ...     9.00   \n",
       "3             4.70          30                1.30  ...     3.75   \n",
       "4             4.70          32                2.05  ...     8.50   \n",
       "..             ...         ...                 ...  ...      ...   \n",
       "161           4.20          30                1.30  ...     3.25   \n",
       "162           4.50          30                1.30  ...     6.50   \n",
       "163           5.00          30                1.30  ...     5.50   \n",
       "164           4.70          30                1.30  ...     7.50   \n",
       "165           4.20          30                1.30  ...     5.50   \n",
       "\n",
       "     hpregenperlevel  mpregen  mpregenperlevel  crit  critperlevel  \\\n",
       "0               1.00     0.00             0.00     0             0   \n",
       "1               0.60     8.00             0.80     0             0   \n",
       "2               0.90    50.00             0.00     0             0   \n",
       "3               0.65     8.20             0.70     0             0   \n",
       "4               0.85     8.50             0.80     0             0   \n",
       "..               ...      ...              ...   ...           ...   \n",
       "161             0.70     6.00             0.80     0             0   \n",
       "162             0.60     8.00             0.80     0             0   \n",
       "163             0.50    11.35             0.80     0             0   \n",
       "164             0.60     8.00             0.65     0             0   \n",
       "165             0.50    13.00             0.40     0             0   \n",
       "\n",
       "     attackdamage  attackdamageperlevel  attackspeedperlevel  attackspeed  \n",
       "0              60                  5.00                2.500        0.651  \n",
       "1              53                  3.00                2.200        0.668  \n",
       "2              62                  3.30                3.200        0.625  \n",
       "3              52                  3.00                4.000        0.638  \n",
       "4              62                  3.75                2.125        0.625  \n",
       "..            ...                   ...                  ...          ...  \n",
       "161            53                  2.00                2.000        0.658  \n",
       "162            55                  3.10                2.000        0.656  \n",
       "163            52                  3.00                2.130        0.658  \n",
       "164            58                  3.30                2.500        0.658  \n",
       "165            53                  3.20                2.110        0.681  \n",
       "\n",
       "[166 rows x 21 columns]"
      ]
     },
     "execution_count": 15,
     "metadata": {},
     "output_type": "execute_result"
    }
   ],
   "source": [
    "df_champion_base_stats = pd.read_excel('datasets_cleaned/champion_base_stats.xlsx')\n",
    "df_champion_base_stats"
   ]
  },
  {
   "cell_type": "code",
   "execution_count": 16,
   "metadata": {},
   "outputs": [
    {
     "data": {
      "text/plain": [
       "'CREATE TABLE champion_base_stats (champion_ID INT, hp INT, hpperlevel INT, mp INT, mpperlevel FLOAT, movespeed INT, armor INT, armorperlevel FLOAT, spellblock INT, spellblockperlevel FLOAT, attackrange INT, hpregen FLOAT, hpregenperlevel FLOAT, mpregen FLOAT, mpregenperlevel FLOAT, crit INT, critperlevel INT, attackdamage INT, attackdamageperlevel FLOAT, attackspeedperlevel FLOAT, attackspeed FLOAT, PRIMARY KEY (champion_ID), FOREIGN KEY (champion_ID) REFERENCES champion(champion_ID))'"
      ]
     },
     "execution_count": 16,
     "metadata": {},
     "output_type": "execute_result"
    }
   ],
   "source": [
    "foreign_keys = [\n",
    "    {'column': 'champion_ID', 'referenced_table': 'champion', 'referenced_column': 'champion_ID'}\n",
    "]\n",
    "\n",
    "champion_base_stats_create_query = get_create_table_query(df_champion_base_stats,\n",
    "                                                         ['champion_ID'],\n",
    "                                                         'champion_base_stats',\n",
    "                                                         foreign_keys)\n",
    "\n",
    "champion_base_stats_create_query"
   ]
  },
  {
   "cell_type": "code",
   "execution_count": 17,
   "metadata": {},
   "outputs": [
    {
     "name": "stdout",
     "output_type": "stream",
     "text": [
      "Executing\n"
     ]
    }
   ],
   "source": [
    "execute_query(conn, champion_base_stats_create_query)"
   ]
  },
  {
   "cell_type": "markdown",
   "metadata": {},
   "source": [
    "### Tags and Champion Tags"
   ]
  },
  {
   "cell_type": "code",
   "execution_count": 18,
   "metadata": {},
   "outputs": [
    {
     "data": {
      "text/html": [
       "<div>\n",
       "<style scoped>\n",
       "    .dataframe tbody tr th:only-of-type {\n",
       "        vertical-align: middle;\n",
       "    }\n",
       "\n",
       "    .dataframe tbody tr th {\n",
       "        vertical-align: top;\n",
       "    }\n",
       "\n",
       "    .dataframe thead th {\n",
       "        text-align: right;\n",
       "    }\n",
       "</style>\n",
       "<table border=\"1\" class=\"dataframe\">\n",
       "  <thead>\n",
       "    <tr style=\"text-align: right;\">\n",
       "      <th></th>\n",
       "      <th>tag_ID</th>\n",
       "      <th>tag_name</th>\n",
       "    </tr>\n",
       "  </thead>\n",
       "  <tbody>\n",
       "    <tr>\n",
       "      <th>0</th>\n",
       "      <td>0</td>\n",
       "      <td>Fighter</td>\n",
       "    </tr>\n",
       "    <tr>\n",
       "      <th>1</th>\n",
       "      <td>1</td>\n",
       "      <td>Tank</td>\n",
       "    </tr>\n",
       "    <tr>\n",
       "      <th>2</th>\n",
       "      <td>2</td>\n",
       "      <td>Mage</td>\n",
       "    </tr>\n",
       "    <tr>\n",
       "      <th>3</th>\n",
       "      <td>3</td>\n",
       "      <td>Assassin</td>\n",
       "    </tr>\n",
       "    <tr>\n",
       "      <th>4</th>\n",
       "      <td>4</td>\n",
       "      <td>Marksman</td>\n",
       "    </tr>\n",
       "    <tr>\n",
       "      <th>5</th>\n",
       "      <td>5</td>\n",
       "      <td>Support</td>\n",
       "    </tr>\n",
       "  </tbody>\n",
       "</table>\n",
       "</div>"
      ],
      "text/plain": [
       "   tag_ID  tag_name\n",
       "0       0   Fighter\n",
       "1       1      Tank\n",
       "2       2      Mage\n",
       "3       3  Assassin\n",
       "4       4  Marksman\n",
       "5       5   Support"
      ]
     },
     "execution_count": 18,
     "metadata": {},
     "output_type": "execute_result"
    }
   ],
   "source": [
    "df_tag = pd.read_excel('datasets_cleaned/tag.xlsx')\n",
    "df_tag"
   ]
  },
  {
   "cell_type": "code",
   "execution_count": 19,
   "metadata": {},
   "outputs": [
    {
     "data": {
      "text/plain": [
       "'CREATE TABLE tag (tag_ID INT, tag_name VARCHAR(255), PRIMARY KEY (tag_ID))'"
      ]
     },
     "execution_count": 19,
     "metadata": {},
     "output_type": "execute_result"
    }
   ],
   "source": [
    "tag_create_query = get_create_table_query(df_tag, ['tag_ID'], 'tag')\n",
    "tag_create_query"
   ]
  },
  {
   "cell_type": "code",
   "execution_count": 20,
   "metadata": {},
   "outputs": [
    {
     "name": "stdout",
     "output_type": "stream",
     "text": [
      "Executing\n"
     ]
    }
   ],
   "source": [
    "execute_query(conn, tag_create_query)"
   ]
  },
  {
   "cell_type": "code",
   "execution_count": 21,
   "metadata": {},
   "outputs": [
    {
     "data": {
      "text/html": [
       "<div>\n",
       "<style scoped>\n",
       "    .dataframe tbody tr th:only-of-type {\n",
       "        vertical-align: middle;\n",
       "    }\n",
       "\n",
       "    .dataframe tbody tr th {\n",
       "        vertical-align: top;\n",
       "    }\n",
       "\n",
       "    .dataframe thead th {\n",
       "        text-align: right;\n",
       "    }\n",
       "</style>\n",
       "<table border=\"1\" class=\"dataframe\">\n",
       "  <thead>\n",
       "    <tr style=\"text-align: right;\">\n",
       "      <th></th>\n",
       "      <th>champion_ID</th>\n",
       "      <th>tag_ID</th>\n",
       "    </tr>\n",
       "  </thead>\n",
       "  <tbody>\n",
       "    <tr>\n",
       "      <th>0</th>\n",
       "      <td>266</td>\n",
       "      <td>0</td>\n",
       "    </tr>\n",
       "    <tr>\n",
       "      <th>1</th>\n",
       "      <td>266</td>\n",
       "      <td>1</td>\n",
       "    </tr>\n",
       "    <tr>\n",
       "      <th>2</th>\n",
       "      <td>103</td>\n",
       "      <td>2</td>\n",
       "    </tr>\n",
       "    <tr>\n",
       "      <th>3</th>\n",
       "      <td>103</td>\n",
       "      <td>3</td>\n",
       "    </tr>\n",
       "    <tr>\n",
       "      <th>4</th>\n",
       "      <td>84</td>\n",
       "      <td>3</td>\n",
       "    </tr>\n",
       "    <tr>\n",
       "      <th>...</th>\n",
       "      <td>...</td>\n",
       "      <td>...</td>\n",
       "    </tr>\n",
       "    <tr>\n",
       "      <th>283</th>\n",
       "      <td>26</td>\n",
       "      <td>2</td>\n",
       "    </tr>\n",
       "    <tr>\n",
       "      <th>284</th>\n",
       "      <td>142</td>\n",
       "      <td>2</td>\n",
       "    </tr>\n",
       "    <tr>\n",
       "      <th>285</th>\n",
       "      <td>142</td>\n",
       "      <td>5</td>\n",
       "    </tr>\n",
       "    <tr>\n",
       "      <th>286</th>\n",
       "      <td>143</td>\n",
       "      <td>2</td>\n",
       "    </tr>\n",
       "    <tr>\n",
       "      <th>287</th>\n",
       "      <td>143</td>\n",
       "      <td>5</td>\n",
       "    </tr>\n",
       "  </tbody>\n",
       "</table>\n",
       "<p>288 rows × 2 columns</p>\n",
       "</div>"
      ],
      "text/plain": [
       "     champion_ID  tag_ID\n",
       "0            266       0\n",
       "1            266       1\n",
       "2            103       2\n",
       "3            103       3\n",
       "4             84       3\n",
       "..           ...     ...\n",
       "283           26       2\n",
       "284          142       2\n",
       "285          142       5\n",
       "286          143       2\n",
       "287          143       5\n",
       "\n",
       "[288 rows x 2 columns]"
      ]
     },
     "execution_count": 21,
     "metadata": {},
     "output_type": "execute_result"
    }
   ],
   "source": [
    "df_champion_tags = pd.read_excel('datasets_cleaned/champion_tags.xlsx')\n",
    "df_champion_tags"
   ]
  },
  {
   "cell_type": "code",
   "execution_count": 22,
   "metadata": {},
   "outputs": [],
   "source": [
    "foreign_keys = [\n",
    "    {'column': 'champion_ID', 'referenced_table': 'champion', 'referenced_column': 'champion_ID'},\n",
    "    {'column': 'tag_ID', 'referenced_table': 'tag', 'referenced_column': 'tag_ID'}\n",
    "\n",
    "]"
   ]
  },
  {
   "cell_type": "code",
   "execution_count": 23,
   "metadata": {},
   "outputs": [
    {
     "data": {
      "text/plain": [
       "'CREATE TABLE champion_tags (champion_ID INT, tag_ID INT, PRIMARY KEY (champion_ID, tag_ID), FOREIGN KEY (champion_ID) REFERENCES champion(champion_ID), FOREIGN KEY (tag_ID) REFERENCES tag(tag_ID))'"
      ]
     },
     "execution_count": 23,
     "metadata": {},
     "output_type": "execute_result"
    }
   ],
   "source": [
    "champion_tags_create_query = get_create_table_query(\n",
    "    df_champion_tags, ['champion_ID', 'tag_ID'], 'champion_tags', foreign_keys\n",
    ")\n",
    "\n",
    "champion_tags_create_query"
   ]
  },
  {
   "cell_type": "code",
   "execution_count": 24,
   "metadata": {},
   "outputs": [
    {
     "name": "stdout",
     "output_type": "stream",
     "text": [
      "Executing\n"
     ]
    }
   ],
   "source": [
    "execute_query(conn, champion_tags_create_query)"
   ]
  },
  {
   "cell_type": "markdown",
   "metadata": {},
   "source": [
    "### Lane and Ranking"
   ]
  },
  {
   "cell_type": "code",
   "execution_count": 25,
   "metadata": {},
   "outputs": [
    {
     "data": {
      "text/html": [
       "<div>\n",
       "<style scoped>\n",
       "    .dataframe tbody tr th:only-of-type {\n",
       "        vertical-align: middle;\n",
       "    }\n",
       "\n",
       "    .dataframe tbody tr th {\n",
       "        vertical-align: top;\n",
       "    }\n",
       "\n",
       "    .dataframe thead th {\n",
       "        text-align: right;\n",
       "    }\n",
       "</style>\n",
       "<table border=\"1\" class=\"dataframe\">\n",
       "  <thead>\n",
       "    <tr style=\"text-align: right;\">\n",
       "      <th></th>\n",
       "      <th>lane_ID</th>\n",
       "      <th>lane_name</th>\n",
       "    </tr>\n",
       "  </thead>\n",
       "  <tbody>\n",
       "    <tr>\n",
       "      <th>0</th>\n",
       "      <td>1</td>\n",
       "      <td>top</td>\n",
       "    </tr>\n",
       "    <tr>\n",
       "      <th>1</th>\n",
       "      <td>2</td>\n",
       "      <td>jungle</td>\n",
       "    </tr>\n",
       "    <tr>\n",
       "      <th>2</th>\n",
       "      <td>3</td>\n",
       "      <td>mid</td>\n",
       "    </tr>\n",
       "    <tr>\n",
       "      <th>3</th>\n",
       "      <td>4</td>\n",
       "      <td>adc</td>\n",
       "    </tr>\n",
       "    <tr>\n",
       "      <th>4</th>\n",
       "      <td>5</td>\n",
       "      <td>support</td>\n",
       "    </tr>\n",
       "  </tbody>\n",
       "</table>\n",
       "</div>"
      ],
      "text/plain": [
       "   lane_ID lane_name\n",
       "0        1       top\n",
       "1        2    jungle\n",
       "2        3       mid\n",
       "3        4       adc\n",
       "4        5   support"
      ]
     },
     "execution_count": 25,
     "metadata": {},
     "output_type": "execute_result"
    }
   ],
   "source": [
    "df_lane = pd.read_excel('datasets_cleaned/lane.xlsx')\n",
    "df_lane"
   ]
  },
  {
   "cell_type": "code",
   "execution_count": 26,
   "metadata": {},
   "outputs": [
    {
     "data": {
      "text/plain": [
       "'CREATE TABLE lane (lane_ID INT, lane_name VARCHAR(255), PRIMARY KEY (lane_ID))'"
      ]
     },
     "execution_count": 26,
     "metadata": {},
     "output_type": "execute_result"
    }
   ],
   "source": [
    "lane_create_query = get_create_table_query(df_lane, ['lane_ID'], 'lane')\n",
    "lane_create_query"
   ]
  },
  {
   "cell_type": "code",
   "execution_count": 27,
   "metadata": {},
   "outputs": [
    {
     "name": "stdout",
     "output_type": "stream",
     "text": [
      "Executing\n"
     ]
    }
   ],
   "source": [
    "execute_query(conn, lane_create_query)"
   ]
  },
  {
   "cell_type": "code",
   "execution_count": 28,
   "metadata": {},
   "outputs": [
    {
     "data": {
      "text/html": [
       "<div>\n",
       "<style scoped>\n",
       "    .dataframe tbody tr th:only-of-type {\n",
       "        vertical-align: middle;\n",
       "    }\n",
       "\n",
       "    .dataframe tbody tr th {\n",
       "        vertical-align: top;\n",
       "    }\n",
       "\n",
       "    .dataframe thead th {\n",
       "        text-align: right;\n",
       "    }\n",
       "</style>\n",
       "<table border=\"1\" class=\"dataframe\">\n",
       "  <thead>\n",
       "    <tr style=\"text-align: right;\">\n",
       "      <th></th>\n",
       "      <th>ranking_ID</th>\n",
       "      <th>ranking_name</th>\n",
       "      <th>ranking_value</th>\n",
       "    </tr>\n",
       "  </thead>\n",
       "  <tbody>\n",
       "    <tr>\n",
       "      <th>0</th>\n",
       "      <td>0</td>\n",
       "      <td>all</td>\n",
       "      <td>0</td>\n",
       "    </tr>\n",
       "    <tr>\n",
       "      <th>1</th>\n",
       "      <td>1</td>\n",
       "      <td>challenger</td>\n",
       "      <td>1</td>\n",
       "    </tr>\n",
       "    <tr>\n",
       "      <th>2</th>\n",
       "      <td>2</td>\n",
       "      <td>master</td>\n",
       "      <td>2</td>\n",
       "    </tr>\n",
       "    <tr>\n",
       "      <th>3</th>\n",
       "      <td>3</td>\n",
       "      <td>diamond</td>\n",
       "      <td>3</td>\n",
       "    </tr>\n",
       "    <tr>\n",
       "      <th>4</th>\n",
       "      <td>4</td>\n",
       "      <td>emerald</td>\n",
       "      <td>4</td>\n",
       "    </tr>\n",
       "    <tr>\n",
       "      <th>5</th>\n",
       "      <td>5</td>\n",
       "      <td>platinum</td>\n",
       "      <td>5</td>\n",
       "    </tr>\n",
       "    <tr>\n",
       "      <th>6</th>\n",
       "      <td>6</td>\n",
       "      <td>gold</td>\n",
       "      <td>6</td>\n",
       "    </tr>\n",
       "    <tr>\n",
       "      <th>7</th>\n",
       "      <td>7</td>\n",
       "      <td>silver</td>\n",
       "      <td>7</td>\n",
       "    </tr>\n",
       "    <tr>\n",
       "      <th>8</th>\n",
       "      <td>8</td>\n",
       "      <td>bronze</td>\n",
       "      <td>8</td>\n",
       "    </tr>\n",
       "    <tr>\n",
       "      <th>9</th>\n",
       "      <td>9</td>\n",
       "      <td>iron</td>\n",
       "      <td>9</td>\n",
       "    </tr>\n",
       "  </tbody>\n",
       "</table>\n",
       "</div>"
      ],
      "text/plain": [
       "   ranking_ID ranking_name  ranking_value\n",
       "0           0          all              0\n",
       "1           1   challenger              1\n",
       "2           2       master              2\n",
       "3           3      diamond              3\n",
       "4           4      emerald              4\n",
       "5           5     platinum              5\n",
       "6           6         gold              6\n",
       "7           7       silver              7\n",
       "8           8       bronze              8\n",
       "9           9         iron              9"
      ]
     },
     "execution_count": 28,
     "metadata": {},
     "output_type": "execute_result"
    }
   ],
   "source": [
    "df_ranking = pd.read_excel('datasets_cleaned/ranking.xlsx')\n",
    "df_ranking"
   ]
  },
  {
   "cell_type": "code",
   "execution_count": 29,
   "metadata": {},
   "outputs": [
    {
     "data": {
      "text/plain": [
       "'CREATE TABLE ranking (ranking_ID INT, ranking_name VARCHAR(255), ranking_value INT, PRIMARY KEY (ranking_ID))'"
      ]
     },
     "execution_count": 29,
     "metadata": {},
     "output_type": "execute_result"
    }
   ],
   "source": [
    "ranking_create_query = get_create_table_query(df_ranking, ['ranking_ID'], 'ranking')\n",
    "ranking_create_query"
   ]
  },
  {
   "cell_type": "code",
   "execution_count": 30,
   "metadata": {},
   "outputs": [
    {
     "name": "stdout",
     "output_type": "stream",
     "text": [
      "Executing\n"
     ]
    }
   ],
   "source": [
    "execute_query(conn, ranking_create_query)"
   ]
  },
  {
   "cell_type": "markdown",
   "metadata": {},
   "source": [
    "### Game Stats"
   ]
  },
  {
   "cell_type": "code",
   "execution_count": 31,
   "metadata": {},
   "outputs": [
    {
     "data": {
      "text/html": [
       "<div>\n",
       "<style scoped>\n",
       "    .dataframe tbody tr th:only-of-type {\n",
       "        vertical-align: middle;\n",
       "    }\n",
       "\n",
       "    .dataframe tbody tr th {\n",
       "        vertical-align: top;\n",
       "    }\n",
       "\n",
       "    .dataframe thead th {\n",
       "        text-align: right;\n",
       "    }\n",
       "</style>\n",
       "<table border=\"1\" class=\"dataframe\">\n",
       "  <thead>\n",
       "    <tr style=\"text-align: right;\">\n",
       "      <th></th>\n",
       "      <th>position</th>\n",
       "      <th>win_rate</th>\n",
       "      <th>pick_rate</th>\n",
       "      <th>ban_rate</th>\n",
       "      <th>pbi</th>\n",
       "      <th>games_played</th>\n",
       "      <th>grade</th>\n",
       "      <th>lane_ID</th>\n",
       "      <th>ranking_ID</th>\n",
       "      <th>champion_ID</th>\n",
       "    </tr>\n",
       "  </thead>\n",
       "  <tbody>\n",
       "    <tr>\n",
       "      <th>0</th>\n",
       "      <td>1</td>\n",
       "      <td>50.20</td>\n",
       "      <td>10.21</td>\n",
       "      <td>19.44</td>\n",
       "      <td>3</td>\n",
       "      <td>1737071</td>\n",
       "      <td>0.888667</td>\n",
       "      <td>1</td>\n",
       "      <td>0</td>\n",
       "      <td>24</td>\n",
       "    </tr>\n",
       "    <tr>\n",
       "      <th>1</th>\n",
       "      <td>2</td>\n",
       "      <td>51.50</td>\n",
       "      <td>5.32</td>\n",
       "      <td>15.35</td>\n",
       "      <td>9</td>\n",
       "      <td>905128</td>\n",
       "      <td>1.111000</td>\n",
       "      <td>1</td>\n",
       "      <td>0</td>\n",
       "      <td>420</td>\n",
       "    </tr>\n",
       "    <tr>\n",
       "      <th>2</th>\n",
       "      <td>3</td>\n",
       "      <td>52.42</td>\n",
       "      <td>5.85</td>\n",
       "      <td>6.50</td>\n",
       "      <td>15</td>\n",
       "      <td>995476</td>\n",
       "      <td>1.222000</td>\n",
       "      <td>1</td>\n",
       "      <td>0</td>\n",
       "      <td>75</td>\n",
       "    </tr>\n",
       "    <tr>\n",
       "      <th>3</th>\n",
       "      <td>4</td>\n",
       "      <td>51.00</td>\n",
       "      <td>4.89</td>\n",
       "      <td>7.75</td>\n",
       "      <td>5</td>\n",
       "      <td>832573</td>\n",
       "      <td>1.222000</td>\n",
       "      <td>1</td>\n",
       "      <td>0</td>\n",
       "      <td>114</td>\n",
       "    </tr>\n",
       "    <tr>\n",
       "      <th>4</th>\n",
       "      <td>5</td>\n",
       "      <td>52.14</td>\n",
       "      <td>8.33</td>\n",
       "      <td>6.26</td>\n",
       "      <td>19</td>\n",
       "      <td>1417037</td>\n",
       "      <td>1.333333</td>\n",
       "      <td>1</td>\n",
       "      <td>0</td>\n",
       "      <td>86</td>\n",
       "    </tr>\n",
       "    <tr>\n",
       "      <th>...</th>\n",
       "      <td>...</td>\n",
       "      <td>...</td>\n",
       "      <td>...</td>\n",
       "      <td>...</td>\n",
       "      <td>...</td>\n",
       "      <td>...</td>\n",
       "      <td>...</td>\n",
       "      <td>...</td>\n",
       "      <td>...</td>\n",
       "      <td>...</td>\n",
       "    </tr>\n",
       "    <tr>\n",
       "      <th>3651</th>\n",
       "      <td>100</td>\n",
       "      <td>40.67</td>\n",
       "      <td>2.45</td>\n",
       "      <td>0.99</td>\n",
       "      <td>-9</td>\n",
       "      <td>19551</td>\n",
       "      <td>4.777667</td>\n",
       "      <td>5</td>\n",
       "      <td>9</td>\n",
       "      <td>117</td>\n",
       "    </tr>\n",
       "    <tr>\n",
       "      <th>3652</th>\n",
       "      <td>101</td>\n",
       "      <td>33.85</td>\n",
       "      <td>0.15</td>\n",
       "      <td>0.71</td>\n",
       "      <td>-2</td>\n",
       "      <td>1158</td>\n",
       "      <td>4.833000</td>\n",
       "      <td>5</td>\n",
       "      <td>9</td>\n",
       "      <td>20</td>\n",
       "    </tr>\n",
       "    <tr>\n",
       "      <th>3653</th>\n",
       "      <td>102</td>\n",
       "      <td>36.99</td>\n",
       "      <td>0.43</td>\n",
       "      <td>0.79</td>\n",
       "      <td>-3</td>\n",
       "      <td>3393</td>\n",
       "      <td>5.000000</td>\n",
       "      <td>5</td>\n",
       "      <td>9</td>\n",
       "      <td>34</td>\n",
       "    </tr>\n",
       "    <tr>\n",
       "      <th>3654</th>\n",
       "      <td>103</td>\n",
       "      <td>30.41</td>\n",
       "      <td>0.24</td>\n",
       "      <td>5.58</td>\n",
       "      <td>-4</td>\n",
       "      <td>1930</td>\n",
       "      <td>5.000000</td>\n",
       "      <td>5</td>\n",
       "      <td>9</td>\n",
       "      <td>18</td>\n",
       "    </tr>\n",
       "    <tr>\n",
       "      <th>3655</th>\n",
       "      <td>104</td>\n",
       "      <td>23.92</td>\n",
       "      <td>0.11</td>\n",
       "      <td>0.93</td>\n",
       "      <td>-2</td>\n",
       "      <td>899</td>\n",
       "      <td>5.166500</td>\n",
       "      <td>5</td>\n",
       "      <td>9</td>\n",
       "      <td>15</td>\n",
       "    </tr>\n",
       "  </tbody>\n",
       "</table>\n",
       "<p>3656 rows × 10 columns</p>\n",
       "</div>"
      ],
      "text/plain": [
       "      position  win_rate  pick_rate  ban_rate  pbi  games_played     grade  \\\n",
       "0            1     50.20      10.21     19.44    3       1737071  0.888667   \n",
       "1            2     51.50       5.32     15.35    9        905128  1.111000   \n",
       "2            3     52.42       5.85      6.50   15        995476  1.222000   \n",
       "3            4     51.00       4.89      7.75    5        832573  1.222000   \n",
       "4            5     52.14       8.33      6.26   19       1417037  1.333333   \n",
       "...        ...       ...        ...       ...  ...           ...       ...   \n",
       "3651       100     40.67       2.45      0.99   -9         19551  4.777667   \n",
       "3652       101     33.85       0.15      0.71   -2          1158  4.833000   \n",
       "3653       102     36.99       0.43      0.79   -3          3393  5.000000   \n",
       "3654       103     30.41       0.24      5.58   -4          1930  5.000000   \n",
       "3655       104     23.92       0.11      0.93   -2           899  5.166500   \n",
       "\n",
       "      lane_ID  ranking_ID  champion_ID  \n",
       "0           1           0           24  \n",
       "1           1           0          420  \n",
       "2           1           0           75  \n",
       "3           1           0          114  \n",
       "4           1           0           86  \n",
       "...       ...         ...          ...  \n",
       "3651        5           9          117  \n",
       "3652        5           9           20  \n",
       "3653        5           9           34  \n",
       "3654        5           9           18  \n",
       "3655        5           9           15  \n",
       "\n",
       "[3656 rows x 10 columns]"
      ]
     },
     "execution_count": 31,
     "metadata": {},
     "output_type": "execute_result"
    }
   ],
   "source": [
    "df_game_stats = pd.read_excel('datasets_cleaned/game_stats.xlsx')\n",
    "df_game_stats"
   ]
  },
  {
   "cell_type": "code",
   "execution_count": 32,
   "metadata": {},
   "outputs": [],
   "source": [
    "foreign_keys = [\n",
    "    {'column': 'champion_ID', 'referenced_table': 'champion', 'referenced_column': 'champion_ID'},\n",
    "    {'column': 'lane_ID', 'referenced_table': 'lane', 'referenced_column': 'lane_ID'},\n",
    "    {'column': 'ranking_ID', 'referenced_table': 'ranking', 'referenced_column': 'ranking_ID'}\n",
    "\n",
    "]\n",
    "\n"
   ]
  },
  {
   "cell_type": "code",
   "execution_count": 33,
   "metadata": {},
   "outputs": [
    {
     "data": {
      "text/plain": [
       "'CREATE TABLE game_stats (position INT, win_rate FLOAT, pick_rate FLOAT, ban_rate FLOAT, pbi INT, games_played INT, grade FLOAT, lane_ID INT, ranking_ID INT, champion_ID INT, PRIMARY KEY (champion_ID, lane_ID, ranking_ID), FOREIGN KEY (champion_ID) REFERENCES champion(champion_ID), FOREIGN KEY (lane_ID) REFERENCES lane(lane_ID), FOREIGN KEY (ranking_ID) REFERENCES ranking(ranking_ID))'"
      ]
     },
     "execution_count": 33,
     "metadata": {},
     "output_type": "execute_result"
    }
   ],
   "source": [
    "game_stats_create_query = get_create_table_query(\n",
    "    df_game_stats, ['champion_ID', 'lane_ID', 'ranking_ID'], 'game_stats', foreign_keys\n",
    ")\n",
    "game_stats_create_query"
   ]
  },
  {
   "cell_type": "code",
   "execution_count": 34,
   "metadata": {},
   "outputs": [
    {
     "name": "stdout",
     "output_type": "stream",
     "text": [
      "Executing\n"
     ]
    }
   ],
   "source": [
    "execute_query(conn, game_stats_create_query)"
   ]
  },
  {
   "cell_type": "markdown",
   "metadata": {},
   "source": [
    "### Matchup"
   ]
  },
  {
   "cell_type": "code",
   "execution_count": 35,
   "metadata": {},
   "outputs": [
    {
     "data": {
      "text/html": [
       "<div>\n",
       "<style scoped>\n",
       "    .dataframe tbody tr th:only-of-type {\n",
       "        vertical-align: middle;\n",
       "    }\n",
       "\n",
       "    .dataframe tbody tr th {\n",
       "        vertical-align: top;\n",
       "    }\n",
       "\n",
       "    .dataframe thead th {\n",
       "        text-align: right;\n",
       "    }\n",
       "</style>\n",
       "<table border=\"1\" class=\"dataframe\">\n",
       "  <thead>\n",
       "    <tr style=\"text-align: right;\">\n",
       "      <th></th>\n",
       "      <th>lane_ID</th>\n",
       "      <th>ranking_ID</th>\n",
       "      <th>type</th>\n",
       "      <th>winrate</th>\n",
       "      <th>games_played</th>\n",
       "      <th>champion_ID</th>\n",
       "      <th>champion_vs_ID</th>\n",
       "    </tr>\n",
       "  </thead>\n",
       "  <tbody>\n",
       "    <tr>\n",
       "      <th>0</th>\n",
       "      <td>1</td>\n",
       "      <td>0</td>\n",
       "      <td>counter</td>\n",
       "      <td>44.01</td>\n",
       "      <td>100862</td>\n",
       "      <td>24</td>\n",
       "      <td>86</td>\n",
       "    </tr>\n",
       "    <tr>\n",
       "      <th>1</th>\n",
       "      <td>1</td>\n",
       "      <td>0</td>\n",
       "      <td>counter</td>\n",
       "      <td>44.53</td>\n",
       "      <td>50803</td>\n",
       "      <td>24</td>\n",
       "      <td>420</td>\n",
       "    </tr>\n",
       "    <tr>\n",
       "      <th>2</th>\n",
       "      <td>1</td>\n",
       "      <td>0</td>\n",
       "      <td>counter</td>\n",
       "      <td>44.85</td>\n",
       "      <td>28349</td>\n",
       "      <td>24</td>\n",
       "      <td>36</td>\n",
       "    </tr>\n",
       "    <tr>\n",
       "      <th>3</th>\n",
       "      <td>1</td>\n",
       "      <td>0</td>\n",
       "      <td>counter</td>\n",
       "      <td>44.86</td>\n",
       "      <td>14508</td>\n",
       "      <td>24</td>\n",
       "      <td>27</td>\n",
       "    </tr>\n",
       "    <tr>\n",
       "      <th>4</th>\n",
       "      <td>1</td>\n",
       "      <td>0</td>\n",
       "      <td>counter</td>\n",
       "      <td>45.80</td>\n",
       "      <td>5380</td>\n",
       "      <td>24</td>\n",
       "      <td>154</td>\n",
       "    </tr>\n",
       "    <tr>\n",
       "      <th>...</th>\n",
       "      <td>...</td>\n",
       "      <td>...</td>\n",
       "      <td>...</td>\n",
       "      <td>...</td>\n",
       "      <td>...</td>\n",
       "      <td>...</td>\n",
       "      <td>...</td>\n",
       "    </tr>\n",
       "    <tr>\n",
       "      <th>30448</th>\n",
       "      <td>5</td>\n",
       "      <td>9</td>\n",
       "      <td>strong</td>\n",
       "      <td>61.82</td>\n",
       "      <td>55</td>\n",
       "      <td>21</td>\n",
       "      <td>43</td>\n",
       "    </tr>\n",
       "    <tr>\n",
       "      <th>30449</th>\n",
       "      <td>5</td>\n",
       "      <td>9</td>\n",
       "      <td>strong</td>\n",
       "      <td>60.00</td>\n",
       "      <td>35</td>\n",
       "      <td>21</td>\n",
       "      <td>17</td>\n",
       "    </tr>\n",
       "    <tr>\n",
       "      <th>30450</th>\n",
       "      <td>5</td>\n",
       "      <td>9</td>\n",
       "      <td>strong</td>\n",
       "      <td>59.57</td>\n",
       "      <td>47</td>\n",
       "      <td>21</td>\n",
       "      <td>267</td>\n",
       "    </tr>\n",
       "    <tr>\n",
       "      <th>30451</th>\n",
       "      <td>5</td>\n",
       "      <td>9</td>\n",
       "      <td>strong</td>\n",
       "      <td>58.06</td>\n",
       "      <td>62</td>\n",
       "      <td>21</td>\n",
       "      <td>117</td>\n",
       "    </tr>\n",
       "    <tr>\n",
       "      <th>30452</th>\n",
       "      <td>5</td>\n",
       "      <td>9</td>\n",
       "      <td>strong</td>\n",
       "      <td>56.10</td>\n",
       "      <td>41</td>\n",
       "      <td>21</td>\n",
       "      <td>57</td>\n",
       "    </tr>\n",
       "  </tbody>\n",
       "</table>\n",
       "<p>30453 rows × 7 columns</p>\n",
       "</div>"
      ],
      "text/plain": [
       "       lane_ID  ranking_ID     type  winrate  games_played  champion_ID  \\\n",
       "0            1           0  counter    44.01        100862           24   \n",
       "1            1           0  counter    44.53         50803           24   \n",
       "2            1           0  counter    44.85         28349           24   \n",
       "3            1           0  counter    44.86         14508           24   \n",
       "4            1           0  counter    45.80          5380           24   \n",
       "...        ...         ...      ...      ...           ...          ...   \n",
       "30448        5           9   strong    61.82            55           21   \n",
       "30449        5           9   strong    60.00            35           21   \n",
       "30450        5           9   strong    59.57            47           21   \n",
       "30451        5           9   strong    58.06            62           21   \n",
       "30452        5           9   strong    56.10            41           21   \n",
       "\n",
       "       champion_vs_ID  \n",
       "0                  86  \n",
       "1                 420  \n",
       "2                  36  \n",
       "3                  27  \n",
       "4                 154  \n",
       "...               ...  \n",
       "30448              43  \n",
       "30449              17  \n",
       "30450             267  \n",
       "30451             117  \n",
       "30452              57  \n",
       "\n",
       "[30453 rows x 7 columns]"
      ]
     },
     "execution_count": 35,
     "metadata": {},
     "output_type": "execute_result"
    }
   ],
   "source": [
    "df_matchup = pd.read_excel('datasets_cleaned/matchup.xlsx')\n",
    "df_matchup"
   ]
  },
  {
   "cell_type": "code",
   "execution_count": 36,
   "metadata": {},
   "outputs": [],
   "source": [
    "foreign_keys = [\n",
    "    {'column': 'champion_ID', 'referenced_table': 'champion', 'referenced_column': 'champion_ID'},\n",
    "    {'column': 'ranking_ID', 'referenced_table': 'ranking', 'referenced_column': 'ranking_ID'},\n",
    "    {'column': 'lane_ID', 'referenced_table': 'lane', 'referenced_column': 'lane_ID'},\n",
    "    {'column': 'champion_vs_ID', 'referenced_table': 'champion', 'referenced_column': 'champion_ID'}\n",
    "]"
   ]
  },
  {
   "cell_type": "code",
   "execution_count": 37,
   "metadata": {},
   "outputs": [
    {
     "data": {
      "text/plain": [
       "'CREATE TABLE matchup (lane_ID INT, ranking_ID INT, type VARCHAR(255), winrate FLOAT, games_played INT, champion_ID INT, champion_vs_ID INT, PRIMARY KEY (champion_ID, lane_ID, ranking_ID, champion_vs_ID), FOREIGN KEY (champion_ID) REFERENCES champion(champion_ID), FOREIGN KEY (ranking_ID) REFERENCES ranking(ranking_ID), FOREIGN KEY (lane_ID) REFERENCES lane(lane_ID), FOREIGN KEY (champion_vs_ID) REFERENCES champion(champion_ID))'"
      ]
     },
     "execution_count": 37,
     "metadata": {},
     "output_type": "execute_result"
    }
   ],
   "source": [
    "matchup_create_query = get_create_table_query(\n",
    "    df_matchup, ['champion_ID', 'lane_ID', 'ranking_ID', 'champion_vs_ID'], 'matchup', foreign_keys\n",
    ")\n",
    "\n",
    "matchup_create_query"
   ]
  },
  {
   "cell_type": "code",
   "execution_count": 38,
   "metadata": {},
   "outputs": [
    {
     "name": "stdout",
     "output_type": "stream",
     "text": [
      "Executing\n"
     ]
    }
   ],
   "source": [
    "execute_query(conn, matchup_create_query)"
   ]
  },
  {
   "cell_type": "markdown",
   "metadata": {},
   "source": [
    "### Insert Values in tables"
   ]
  },
  {
   "cell_type": "code",
   "execution_count": 39,
   "metadata": {},
   "outputs": [],
   "source": [
    "def get_insert_query(df, table_name):\n",
    "    # Estrai colonne e valori dal DataFrame\n",
    "    columns = ', '.join(df.columns)\n",
    "    values_template = ', '.join(['%s'] * len(df.columns))\n",
    "    \n",
    "    # Genera la query di inserimento\n",
    "    insert_query = f\"INSERT INTO {table_name} ({columns}) VALUES ({values_template})\"\n",
    "    escaped_values = []\n",
    "    # Estrai i valori dal DataFrame come una lista di tuple\n",
    "    for row in df.values:\n",
    "        escaped_row = [str(value).replace(\"'\", \"''\") for value in row]\n",
    "\n",
    "        escaped_values.append(tuple(escaped_row))\n",
    "    \n",
    "    return insert_query, escaped_values"
   ]
  },
  {
   "cell_type": "code",
   "execution_count": 40,
   "metadata": {},
   "outputs": [],
   "source": [
    "def execute_insert_query(query, values, connection):\n",
    "    try:\n",
    "        cursor = connection.cursor()\n",
    "        cursor.executemany(query, values)\n",
    "        connection.commit()\n",
    "        print(\"Inserimento completato con successo!\")\n",
    "    except Exception as e:\n",
    "        print(f\"Errore durante l'inserimento: {e}\")\n",
    "    finally:\n",
    "        cursor.close()"
   ]
  },
  {
   "cell_type": "markdown",
   "metadata": {},
   "source": [
    "### Champion Name"
   ]
  },
  {
   "cell_type": "code",
   "execution_count": 41,
   "metadata": {},
   "outputs": [
    {
     "data": {
      "text/plain": [
       "'INSERT INTO champion (champion_ID, champion_name) VALUES (%s, %s)'"
      ]
     },
     "execution_count": 41,
     "metadata": {},
     "output_type": "execute_result"
    }
   ],
   "source": [
    "champion_name_insert_query, escaped_values = get_insert_query(df_champion_name, 'champion')\n",
    "champion_name_insert_query"
   ]
  },
  {
   "cell_type": "code",
   "execution_count": 42,
   "metadata": {},
   "outputs": [
    {
     "name": "stdout",
     "output_type": "stream",
     "text": [
      "Inserimento completato con successo!\n"
     ]
    }
   ],
   "source": [
    "execute_insert_query(champion_name_insert_query, escaped_values, conn)"
   ]
  },
  {
   "cell_type": "code",
   "execution_count": 43,
   "metadata": {},
   "outputs": [
    {
     "name": "stdout",
     "output_type": "stream",
     "text": [
      "Inserimento completato con successo!\n"
     ]
    }
   ],
   "source": [
    "champion_base_info_insert_query, escaped_values = get_insert_query(df_champion_base_info, 'champion_base_info')\n",
    "execute_insert_query(champion_base_info_insert_query, escaped_values, conn)"
   ]
  },
  {
   "cell_type": "code",
   "execution_count": 44,
   "metadata": {},
   "outputs": [
    {
     "name": "stdout",
     "output_type": "stream",
     "text": [
      "Inserimento completato con successo!\n"
     ]
    }
   ],
   "source": [
    "champion_base_stats_insert_query, escaped_values = get_insert_query(df_champion_base_stats, 'champion_base_stats')\n",
    "execute_insert_query(champion_base_stats_insert_query, escaped_values, conn)"
   ]
  },
  {
   "cell_type": "code",
   "execution_count": 45,
   "metadata": {},
   "outputs": [
    {
     "name": "stdout",
     "output_type": "stream",
     "text": [
      "Inserimento completato con successo!\n"
     ]
    }
   ],
   "source": [
    "tag_insert_query, escaped_values = get_insert_query(df_tag, 'tag')\n",
    "execute_insert_query(tag_insert_query, escaped_values, conn)"
   ]
  },
  {
   "cell_type": "code",
   "execution_count": 46,
   "metadata": {},
   "outputs": [
    {
     "name": "stdout",
     "output_type": "stream",
     "text": [
      "Inserimento completato con successo!\n"
     ]
    }
   ],
   "source": [
    "lane_insert_query, escaped_values = get_insert_query(df_lane, 'lane')\n",
    "execute_insert_query(lane_insert_query, escaped_values, conn)"
   ]
  },
  {
   "cell_type": "code",
   "execution_count": 47,
   "metadata": {},
   "outputs": [
    {
     "name": "stdout",
     "output_type": "stream",
     "text": [
      "Inserimento completato con successo!\n"
     ]
    }
   ],
   "source": [
    "ranking_insert_query, escaped_values = get_insert_query(df_ranking, 'ranking')\n",
    "execute_insert_query(ranking_insert_query, escaped_values, conn)"
   ]
  },
  {
   "cell_type": "code",
   "execution_count": 48,
   "metadata": {},
   "outputs": [
    {
     "name": "stdout",
     "output_type": "stream",
     "text": [
      "Inserimento completato con successo!\n"
     ]
    }
   ],
   "source": [
    "game_stats_insert_query, escaped_values = get_insert_query(df_game_stats, 'game_stats')\n",
    "execute_insert_query(game_stats_insert_query, escaped_values, conn)"
   ]
  },
  {
   "cell_type": "code",
   "execution_count": 49,
   "metadata": {},
   "outputs": [
    {
     "name": "stdout",
     "output_type": "stream",
     "text": [
      "Inserimento completato con successo!\n"
     ]
    }
   ],
   "source": [
    "matchup_insert_query, escaped_values = get_insert_query(df_matchup, 'matchup')\n",
    "execute_insert_query(matchup_insert_query, escaped_values, conn)"
   ]
  }
 ],
 "metadata": {
  "kernelspec": {
   "display_name": "Python 3",
   "language": "python",
   "name": "python3"
  },
  "language_info": {
   "codemirror_mode": {
    "name": "ipython",
    "version": 3
   },
   "file_extension": ".py",
   "mimetype": "text/x-python",
   "name": "python",
   "nbconvert_exporter": "python",
   "pygments_lexer": "ipython3",
   "version": "3.12.1"
  }
 },
 "nbformat": 4,
 "nbformat_minor": 2
}
